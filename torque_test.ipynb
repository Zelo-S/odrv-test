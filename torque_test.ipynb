{
 "cells": [
  {
   "cell_type": "code",
   "execution_count": 43,
   "metadata": {},
   "outputs": [
    {
     "name": "stdout",
     "output_type": "stream",
     "text": [
      "Finding odrv...\n",
      "starting calibration...\n",
      "setting params axis 0...\n",
      "setting params axis 1...\n"
     ]
    }
   ],
   "source": [
    "import time\n",
    "import odrive\n",
    "from odrive.enums import *\n",
    "\n",
    "print(\"Finding odrv...\")\n",
    "odrv0 = odrive.find_any()\n",
    "\n",
    "def CALIB():\n",
    "    print(\"starting calibration...\")\n",
    "    time.sleep(1)\n",
    "    odrv0.axis0.requested_state = AXIS_STATE_FULL_CALIBRATION_SEQUENCE\n",
    "    odrv0.axis1.requested_state = AXIS_STATE_FULL_CALIBRATION_SEQUENCE\n",
    "    while odrv0.axis0.current_state != AXIS_STATE_IDLE:\n",
    "        time.sleep(0.1)\n",
    "    while odrv0.axis1.current_state != AXIS_STATE_IDLE:\n",
    "        time.sleep(0.1)\n",
    "\n",
    "    print(\"setting params axis 0...\")\n",
    "    odrv0.axis0.encoder.set_linear_count(0)\n",
    "    odrv0.axis0.requested_state = AXIS_STATE_CLOSED_LOOP_CONTROL\n",
    "\n",
    "    print(\"setting params axis 1...\")\n",
    "    odrv0.axis1.encoder.set_linear_count(0)\n",
    "    odrv0.axis1.requested_state = AXIS_STATE_CLOSED_LOOP_CONTROL\n",
    "def STOP():\n",
    "    odrv0.axis0.requested_state = AXIS_STATE_IDLE\n",
    "    odrv0.axis1.requested_state = AXIS_STATE_IDLE\n",
    "    \n",
    "CALIB()"
   ]
  },
  {
   "cell_type": "code",
   "execution_count": 64,
   "metadata": {},
   "outputs": [],
   "source": [
    "import time\n",
    "import math\n",
    "\n",
    "time.sleep(3)\n",
    "\n",
    "odrv0.axis0.controller.config.control_mode = CONTROL_MODE_TORQUE_CONTROL\n",
    "odrv0.axis0.controller.config.input_mode = INPUT_MODE_PASSTHROUGH\n",
    "\n",
    "odrv0.axis1.controller.config.control_mode = CONTROL_MODE_POSITION_CONTROL\n",
    "odrv0.axis1.controller.config.input_mode = INPUT_MODE_PASSTHROUGH\n",
    "\n",
    "t = 0\n",
    "\n",
    "odrv0.axis0.controller.input_torque = 0.0\n",
    "while t < 1:\n",
    "    odrv0.axis0.controller.input_torque = t * 3\n",
    "    time.sleep(0.01)\n",
    "    t += 0.01\n",
    "odrv0.axis0.controller.input_torque = 0.0"
   ]
  },
  {
   "cell_type": "code",
   "execution_count": 39,
   "metadata": {},
   "outputs": [],
   "source": [
    "STOP()"
   ]
  }
 ],
 "metadata": {
  "kernelspec": {
   "display_name": "venv",
   "language": "python",
   "name": "python3"
  },
  "language_info": {
   "codemirror_mode": {
    "name": "ipython",
    "version": 3
   },
   "file_extension": ".py",
   "mimetype": "text/x-python",
   "name": "python",
   "nbconvert_exporter": "python",
   "pygments_lexer": "ipython3",
   "version": "3.12.4"
  }
 },
 "nbformat": 4,
 "nbformat_minor": 2
}
