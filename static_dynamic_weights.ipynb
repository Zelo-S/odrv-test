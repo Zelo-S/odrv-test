{
 "cells": [
  {
   "cell_type": "code",
   "execution_count": 25,
   "metadata": {},
   "outputs": [
    {
     "name": "stdout",
     "output_type": "stream",
     "text": [
      "Finding odrv...\n"
     ]
    }
   ],
   "source": [
    "import time\n",
    "import odrive\n",
    "from odrive.enums import *\n",
    "\n",
    "print(\"Finding odrv...\")\n",
    "odrv0 = odrive.find_any()\n",
    "\n",
    "# print(INPUT_MODE_POS_FILTER) # 3\n",
    "# print(INPUT_MODE_TRAP_TRAJ) # 5\n",
    "# print(CONTROL_MODE_VELOCITY_CONTROL) # 2\n",
    "# print(INPUT_MODE_VEL_RAMP) # 2 \n",
    "# print(CONTROL_MODE_TORQUE_CONTROL) # 1"
   ]
  },
  {
   "cell_type": "code",
   "execution_count": 24,
   "metadata": {},
   "outputs": [],
   "source": [
    "import time\n",
    "def idle():\n",
    "    time.sleep(0.5)\n",
    "    odrv0.axis1.requested_state = AXIS_STATE_IDLE\n",
    "    time.sleep(0.5)\n",
    "idle()"
   ]
  },
  {
   "cell_type": "code",
   "execution_count": 26,
   "metadata": {},
   "outputs": [
    {
     "name": "stdout",
     "output_type": "stream",
     "text": [
      "starting calibration...\n",
      "setting other params...\n"
     ]
    }
   ],
   "source": [
    "def calib():\n",
    "    # Calibrate motor and wait for it to finish\n",
    "    print(\"starting calibration...\")\n",
    "    time.sleep(2)\n",
    "    odrv0.axis1.requested_state = AXIS_STATE_FULL_CALIBRATION_SEQUENCE\n",
    "    while odrv0.axis1.current_state != AXIS_STATE_IDLE:\n",
    "        time.sleep(1)\n",
    "\n",
    "    print(\"setting other params...\")\n",
    "    odrv0.axis1.encoder.set_linear_count(0)\n",
    "    odrv0.axis1.requested_state = AXIS_STATE_CLOSED_LOOP_CONTROL\n",
    "calib()"
   ]
  },
  {
   "cell_type": "code",
   "execution_count": 23,
   "metadata": {},
   "outputs": [],
   "source": [
    "def lifting():\n",
    "    odrv0.axis1.controller.config.control_mode = CONTROL_MODE_POSITION_CONTROL\n",
    "    odrv0.axis1.controller.config.input_mode = INPUT_MODE_TRAP_TRAJ \n",
    "    odrv0.axis1.controller.move_incremental(-2, True)\n",
    "    time.sleep(5)\n",
    "    odrv0.axis1.controller.move_incremental(2, True)\n",
    "lifting()"
   ]
  },
  {
   "cell_type": "code",
   "execution_count": 4,
   "metadata": {},
   "outputs": [
    {
     "name": "stdout",
     "output_type": "stream",
     "text": [
      "5\n",
      "3\n"
     ]
    },
    {
     "name": "stderr",
     "output_type": "stream",
     "text": [
      "/home/stevex/Desktop/odrv-test/env/lib/python3.10/site-packages/odrive/utils.py:323: UserWarning: frames=None which we can infer the length of, did not pass an explicit *save_count* and passed cache_frame_data=True.  To avoid a possibly unbounded cache, frame data caching has been disabled. To suppress this warning either pass `cache_frame_data=False` or `save_count=MAX_FRAMES`.\n",
      "  _ = animation.FuncAnimation(fig, animate, interval=plot_rate)\n"
     ]
    },
    {
     "ename": "KeyboardInterrupt",
     "evalue": "",
     "output_type": "error",
     "traceback": [
      "\u001b[0;31m---------------------------------------------------------------------------\u001b[0m",
      "\u001b[0;31mKeyboardInterrupt\u001b[0m                         Traceback (most recent call last)",
      "Cell \u001b[0;32mIn[4], line 13\u001b[0m\n\u001b[1;32m     10\u001b[0m     \u001b[38;5;66;03m# avg_I += odrv0.axis1.motor.current_control.Iq_measured\u001b[39;00m\n\u001b[1;32m     11\u001b[0m     \u001b[38;5;66;03m# print(\"Average I: \", avg_I)\u001b[39;00m\n\u001b[1;32m     12\u001b[0m     plt\u001b[38;5;241m.\u001b[39mclose(\u001b[38;5;124m'\u001b[39m\u001b[38;5;124mall\u001b[39m\u001b[38;5;124m'\u001b[39m)\n\u001b[0;32m---> 13\u001b[0m \u001b[43mmonitor\u001b[49m\u001b[43m(\u001b[49m\u001b[43m)\u001b[49m\n",
      "Cell \u001b[0;32mIn[4], line 9\u001b[0m, in \u001b[0;36mmonitor\u001b[0;34m()\u001b[0m\n\u001b[1;32m      7\u001b[0m avg_I \u001b[38;5;241m=\u001b[39m \u001b[38;5;241m0\u001b[39m\n\u001b[1;32m      8\u001b[0m start_liveplotter(\u001b[38;5;28;01mlambda\u001b[39;00m: [odrv0\u001b[38;5;241m.\u001b[39maxis1\u001b[38;5;241m.\u001b[39mmotor\u001b[38;5;241m.\u001b[39mcurrent_control\u001b[38;5;241m.\u001b[39mIq_measured])\n\u001b[0;32m----> 9\u001b[0m \u001b[43mtime\u001b[49m\u001b[38;5;241;43m.\u001b[39;49m\u001b[43msleep\u001b[49m\u001b[43m(\u001b[49m\u001b[38;5;241;43m100000\u001b[39;49m\u001b[43m)\u001b[49m\n\u001b[1;32m     10\u001b[0m \u001b[38;5;66;03m# avg_I += odrv0.axis1.motor.current_control.Iq_measured\u001b[39;00m\n\u001b[1;32m     11\u001b[0m \u001b[38;5;66;03m# print(\"Average I: \", avg_I)\u001b[39;00m\n\u001b[1;32m     12\u001b[0m plt\u001b[38;5;241m.\u001b[39mclose(\u001b[38;5;124m'\u001b[39m\u001b[38;5;124mall\u001b[39m\u001b[38;5;124m'\u001b[39m)\n",
      "\u001b[0;31mKeyboardInterrupt\u001b[0m: "
     ]
    },
    {
     "data": {
      "image/png": "[encoded data removed]",
      "text/plain": [
       "<Figure size 640x480 with 1 Axes>"
      ]
     },
     "metadata": {},
     "output_type": "display_data"
    }
   ],
   "source": [
    "def monitor():\n",
    "    print(odrv0.axis1.controller.config.input_mode)\n",
    "    print(odrv0.axis1.controller.config.control_mode)\n",
    "\n",
    "    import matplotlib.pyplot as plt\n",
    "    from odrive.utils import start_liveplotter\n",
    "    avg_I = 0\n",
    "    start_liveplotter(lambda: [odrv0.axis1.motor.current_control.Iq_measured])\n",
    "    time.sleep(100000)\n",
    "    # avg_I += odrv0.axis1.motor.current_control.Iq_measured\n",
    "    # print(\"Average I: \", avg_I)\n",
    "    plt.close('all')\n",
    "monitor()"
   ]
  },
  {
   "cell_type": "code",
   "execution_count": 29,
   "metadata": {},
   "outputs": [
    {
     "name": "stdout",
     "output_type": "stream",
     "text": [
      "4.0\n"
     ]
    },
    {
     "data": {
      "text/plain": [
       "True"
      ]
     },
     "execution_count": 29,
     "metadata": {},
     "output_type": "execute_result"
    }
   ],
   "source": [
    "def turn_motor_short(time_duration=5, direction=\"ccw\"):\n",
    "    odrv0.axis1.controller.config.input_mode = INPUT_MODE_PASSTHROUGH\n",
    "    odrv0.axis1.controller.config.control_mode = CONTROL_MODE_VELOCITY_CONTROL\n",
    "    multiplier = 1\n",
    "    if direction == \"cw\":\n",
    "        multiplier *= -1 \n",
    "    input_velocity = multiplier * 4 # (n / 10) turns / second(in terms of actuator's output)\n",
    "    turn_period = time_duration # in terms of seconds\n",
    "\n",
    "    odrv0.axis1.controller.input_vel = 0\n",
    "    time.sleep(1)\n",
    "    odrv0.axis1.controller.input_vel = input_velocity\n",
    "    print(odrv0.axis1.controller.vel_setpoint)\n",
    "    # print(odrv0.axis1.encoder.pos_estimate)\n",
    "    time.sleep(turn_period) # allowed to rotate for this .sleep(x) amount of time at above's input velocity\n",
    "    odrv0.axis1.controller.input_vel = 0\n",
    "    return True\n",
    "turn_motor_short(direction=\"ccw\")"
   ]
  }
 ],
 "metadata": {
  "kernelspec": {
   "display_name": "env",
   "language": "python",
   "name": "python3"
  },
  "language_info": {
   "codemirror_mode": {
    "name": "ipython",
    "version": 3
   },
   "file_extension": ".py",
   "mimetype": "text/x-python",
   "name": "python",
   "nbconvert_exporter": "python",
   "pygments_lexer": "ipython3",
   "version": "3.10.12"
  }
 },
 "nbformat": 4,
 "nbformat_minor": 2
}
